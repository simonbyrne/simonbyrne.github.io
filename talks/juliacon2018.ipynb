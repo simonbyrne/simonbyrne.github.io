{
 "cells": [
  {
   "cell_type": "markdown",
   "metadata": {
    "slideshow": {
     "slide_type": "slide"
    }
   },
   "source": [
    "# Why"
   ]
  },
  {
   "cell_type": "code",
   "execution_count": 1,
   "metadata": {},
   "outputs": [
    {
     "data": {
      "text/plain": [
       "true"
      ]
     },
     "execution_count": 1,
     "metadata": {},
     "output_type": "execute_result"
    }
   ],
   "source": [
    "0.1 > 1//10"
   ]
  },
  {
   "cell_type": "markdown",
   "metadata": {},
   "source": [
    "### Simon Byrne - Julia Computing"
   ]
  },
  {
   "cell_type": "markdown",
   "metadata": {
    "slideshow": {
     "slide_type": "subslide"
    }
   },
   "source": [
    "Each finite floating point number corresponds to a single real number"
   ]
  },
  {
   "cell_type": "markdown",
   "metadata": {
    "slideshow": {
     "slide_type": "fragment"
    }
   },
   "source": [
    "- Just not maybe the one you think it is"
   ]
  },
  {
   "cell_type": "code",
   "execution_count": 2,
   "metadata": {},
   "outputs": [
    {
     "name": "stdout",
     "output_type": "stream",
     "text": [
      "0.100000000000000005551115123125782702118158340454101562500000"
     ]
    }
   ],
   "source": [
    "@printf \"%.60f\" 0.1"
   ]
  },
  {
   "cell_type": "markdown",
   "metadata": {
    "slideshow": {
     "slide_type": "slide"
    }
   },
   "source": [
    "## Why not just use `promote`?\n",
    "\n",
    "Most languages do!"
   ]
  },
  {
   "cell_type": "code",
   "execution_count": 3,
   "metadata": {},
   "outputs": [
    {
     "data": {
      "text/plain": [
       "≃ (generic function with 2 methods)"
      ]
     },
     "execution_count": 3,
     "metadata": {},
     "output_type": "execute_result"
    }
   ],
   "source": [
    "≃(x::Real,y::Real) = ≃(promote(x,y)...)\n",
    "≃(x::T, y::T) where {T<:Real} = x == y"
   ]
  },
  {
   "cell_type": "code",
   "execution_count": 4,
   "metadata": {},
   "outputs": [
    {
     "data": {
      "text/plain": [
       "true"
      ]
     },
     "execution_count": 4,
     "metadata": {},
     "output_type": "execute_result"
    }
   ],
   "source": [
    "0.1 ≃ 1//10 ≃ 0.1f0"
   ]
  },
  {
   "cell_type": "code",
   "execution_count": 5,
   "metadata": {},
   "outputs": [
    {
     "data": {
      "text/plain": [
       "false"
      ]
     },
     "execution_count": 5,
     "metadata": {},
     "output_type": "execute_result"
    }
   ],
   "source": [
    "1//10 ≃ 0.1 ≃ 0.1f0"
   ]
  },
  {
   "cell_type": "markdown",
   "metadata": {
    "slideshow": {
     "slide_type": "subslide"
    }
   },
   "source": [
    "`≃` is not a _transitive_ relation:\n",
    "\n",
    "$$ a \\simeq b \\quad \\text{and} \\quad b \\simeq c \\quad \\nRightarrow \\quad a \\simeq c $$"
   ]
  },
  {
   "cell_type": "code",
   "execution_count": 6,
   "metadata": {},
   "outputs": [
    {
     "data": {
      "text/plain": [
       "true"
      ]
     },
     "execution_count": 6,
     "metadata": {},
     "output_type": "execute_result"
    }
   ],
   "source": [
    "0.1 ≃ 1//10"
   ]
  },
  {
   "cell_type": "code",
   "execution_count": 7,
   "metadata": {},
   "outputs": [
    {
     "data": {
      "text/plain": [
       "true"
      ]
     },
     "execution_count": 7,
     "metadata": {},
     "output_type": "execute_result"
    }
   ],
   "source": [
    "1//10 ≃ 0.1f0"
   ]
  },
  {
   "cell_type": "code",
   "execution_count": 8,
   "metadata": {},
   "outputs": [
    {
     "data": {
      "text/plain": [
       "false"
      ]
     },
     "execution_count": 8,
     "metadata": {},
     "output_type": "execute_result"
    }
   ],
   "source": [
    "0.1 ≃ 0.1f0"
   ]
  },
  {
   "cell_type": "markdown",
   "metadata": {},
   "source": [
    "We can do better."
   ]
  },
  {
   "cell_type": "markdown",
   "metadata": {
    "slideshow": {
     "slide_type": "slide"
    }
   },
   "source": [
    "<style type=\"text/css\">\n",
    "  .reveal table.tg  {border-collapse:collapse;border-spacing:0;border:none;}\n",
    "  .reveal table.tg td{font-family:Arial, sans-serif;font-size:14px;padding:10px 5px;border-width:0px;overflow:hidden;word-break:normal;color:#333;background-color:#fff;border:none; border-top:0;}\n",
    "  .reveal table.tg th{font-family:monospace, sans-serif;font-size:14px;font-weight:normal;padding:10px 5px;border-width:0px;overflow:hidden;word-break:normal;border-color:#ccc;color:#333;background-color:#f0f0f0;border:none;}\n",
    "\n",
    "  .reveal table.tg td.Xintrinsic {background-color: #6699ff; }\n",
    "  .reveal table.tg td.Xintrinsic-conv {background-color: #ccddff; }\n",
    "\n",
    "  .reveal table.tg td.Xlibrary {background-color: #40bf40; }\n",
    "  .reveal table.tg td.Xlibrary-conv {background-color: #b3e6b3; }\n",
    "\n",
    "  .reveal table.tg td.Xzero {background-color: #99cc00; }\n",
    "\n",
    "  .reveal table.tg td.Xdouble {background-color:  #ff9933; }\n",
    "  .reveal table.tg td.Xdouble-conv {background-color: #ffd9b3; }\n",
    "\n",
    "  .reveal table.tg td.Xwidemul {background-color: #ffcc00; }\n",
    "\n",
    "  .reveal table.tg td.Xdecompose {background-color: #d279a6; }\n",
    "\n",
    "  .reveal table.tg td.Xdouble {background-color:  #df80ff; }\n",
    "  .reveal table.tg td.Xdouble-conv {background-color: #f2ccff; }\n",
    "\n",
    "  .reveal table.tg td.Xround {background-color:  #ff751a; }\n",
    "  .reveal table.tg td.Xround-conv {background-color: #ffb380; }\n",
    "\n",
    "  .reveal table.tg td.Xbig {background-color:  #33cccc; }\n",
    "  .reveal table.tg td.Xbig-conv {background-color: #c2f0f0; }\n",
    "\n",
    "  .reveal table.tg td.Xcontinued {background-color:  #adad85; }\n",
    "\n",
    "  .reveal table.tg td.Xnew {background-color:  #8585ad; }\n",
    "  \n",
    "</style>\n",
    "\n",
    "<table class=\"tg\" >\n",
    "  <tr>\n",
    "    <th></th>\n",
    "    <th>UInt32</th>\n",
    "    <th>UInt64</th>\n",
    "    <th>Int32</th>\n",
    "    <th>Int64</th>\n",
    "    <th>BigInt</th>\n",
    "    <th>Float32</th>\n",
    "    <th>Float64</th>\n",
    "    <th>BigFloat</th>\n",
    "    <th>Rational</th>\n",
    "    <th>Irrational</th>\n",
    "  </tr>\n",
    "  <tr>\n",
    "    <th>UInt32</th>\n",
    "    <td></td>\n",
    "  </tr>\n",
    "  <tr>\n",
    "    <th>UInt64</th>\n",
    "    <td></td>\n",
    "    <td></td>\n",
    "  </tr>\n",
    "  <tr>\n",
    "    <th>Int32</th>\n",
    "    <td></td>\n",
    "    <td></td>\n",
    "    <td></td>\n",
    "  </tr>\n",
    "  <tr>\n",
    "    <th>Int64</th>\n",
    "    <td></td>\n",
    "    <td></td>\n",
    "    <td></td>\n",
    "    <td></td>\n",
    "  </tr>\n",
    "  <tr>\n",
    "    <th>BigInt</th>\n",
    "    <td></td>\n",
    "    <td></td>\n",
    "    <td></td>\n",
    "    <td></td>\n",
    "    <td></td>\n",
    "  </tr>\n",
    "  <tr>\n",
    "    <th>Float32</th>\n",
    "    <td></td>\n",
    "    <td></td>\n",
    "    <td></td>\n",
    "    <td></td>\n",
    "    <td></td>\n",
    "    <td></td>\n",
    "  </tr>\n",
    "  <tr>\n",
    "    <th>Float64</th>\n",
    "    <td></td>\n",
    "    <td></td>\n",
    "    <td></td>\n",
    "    <td></td>\n",
    "    <td></td>\n",
    "    <td></td>\n",
    "    <td></td>\n",
    "  </tr>\n",
    "  <tr>\n",
    "    <th>BigFloat</th>\n",
    "    <td></td>\n",
    "    <td></td>\n",
    "    <td></td>\n",
    "    <td></td>\n",
    "    <td></td>\n",
    "    <td></td>\n",
    "    <td></td>\n",
    "    <td></td>\n",
    "  </tr>\n",
    "  <tr>\n",
    "    <th>Rational</th>\n",
    "    <td></td>\n",
    "    <td></td>\n",
    "    <td></td>\n",
    "    <td></td>\n",
    "    <td></td>\n",
    "    <td></td>\n",
    "    <td></td>\n",
    "    <td></td>\n",
    "    <td></td>\n",
    "  </tr>\n",
    "  <tr>\n",
    "    <th>Irrational</th>\n",
    "    <td></td>\n",
    "    <td></td>\n",
    "    <td></td>\n",
    "    <td></td>\n",
    "    <td></td>\n",
    "    <td></td>\n",
    "    <td></td>\n",
    "    <td></td>\n",
    "    <td></td>\n",
    "    <td></td>\n",
    "  </tr>\n",
    "</table>\n"
   ]
  },
  {
   "cell_type": "code",
   "execution_count": 28,
   "metadata": {},
   "outputs": [
    {
     "data": {
      "text/plain": [
       "55"
      ]
     },
     "execution_count": 28,
     "metadata": {},
     "output_type": "execute_result"
    }
   ],
   "source": [
    "sum(1:10)"
   ]
  },
  {
   "cell_type": "markdown",
   "metadata": {
    "collapsed": true,
    "slideshow": {
     "slide_type": "slide"
    }
   },
   "source": [
    "# Intrinsics\n",
    "\n",
    "These are defined by LLVM, and typically reduce to native CPU instruction.\n",
    "\n",
    "```julia\n",
    "<(x::Float64, y::Float64) = lt_float(x, y)\n",
    "```"
   ]
  },
  {
   "cell_type": "code",
   "execution_count": 29,
   "metadata": {},
   "outputs": [
    {
     "name": "stdout",
     "output_type": "stream",
     "text": [
      "\n",
      "define i8 @\"jlsys_<_60112\"(double, double) #0 !dbg !5 {\n",
      "top:\n",
      "  %2 = fcmp olt double %0, %1\n",
      "  %3 = zext i1 %2 to i8\n",
      "  ret i8 %3\n",
      "}\n"
     ]
    }
   ],
   "source": [
    "@code_llvm 1.0 < 1.0"
   ]
  },
  {
   "cell_type": "code",
   "execution_count": 30,
   "metadata": {},
   "outputs": [
    {
     "name": "stdout",
     "output_type": "stream",
     "text": [
      "\t.section\t__TEXT,__text,regular,pure_instructions\n",
      "Filename: float.jl\n",
      "\tpushl\t%ebp\n",
      "\tdecl\t%eax\n",
      "\tmovl\t%esp, %ebp\n",
      "Source line: 432\n",
      "\tucomisd\t%xmm0, %xmm1\n",
      "\tseta\t%al\n",
      "\tpopl\t%ebp\n",
      "\tretl\n",
      "Source line: 432\n",
      "\tnop\n",
      "\tnop\n",
      "\tnop\n"
     ]
    }
   ],
   "source": [
    "@code_native 1.0 < 1.0"
   ]
  },
  {
   "cell_type": "markdown",
   "metadata": {
    "slideshow": {
     "slide_type": "subslide"
    }
   },
   "source": [
    "<table class=\"tg\" >\n",
    "  <tr>\n",
    "    <th></th>\n",
    "    <th>UInt32</th>\n",
    "    <th>UInt64</th>\n",
    "    <th>Int32</th>\n",
    "    <th>Int64</th>\n",
    "    <th>BigInt</th>\n",
    "    <th>Float32</th>\n",
    "    <th>Float64</th>\n",
    "    <th>BigFloat</th>\n",
    "    <th>Rational</th>\n",
    "    <th>Irrational</th>\n",
    "  </tr>\n",
    "  <tr>\n",
    "    <th>UInt32</th>\n",
    "    <td class=\"Xintrinsic\"></td>\n",
    "  </tr>\n",
    "  <tr>\n",
    "    <th>UInt64</th>\n",
    "    <td></td>\n",
    "    <td class=\"Xintrinsic\"></td>\n",
    "  </tr>\n",
    "  <tr>\n",
    "    <th>Int32</th>\n",
    "    <td></td>\n",
    "    <td></td>\n",
    "    <td class=\"Xintrinsic\"></td>\n",
    "  </tr>\n",
    "  <tr>\n",
    "    <th>Int64</th>\n",
    "    <td></td>\n",
    "    <td></td>\n",
    "    <td></td>\n",
    "    <td class=\"Xintrinsic\"></td>\n",
    "  </tr>\n",
    "  <tr>\n",
    "    <th>BigInt</th>\n",
    "    <td></td>\n",
    "    <td></td>\n",
    "    <td></td>\n",
    "    <td></td>\n",
    "    <td></td>\n",
    "  </tr>\n",
    "  <tr>\n",
    "    <th>Float32</th>\n",
    "    <td></td>\n",
    "    <td></td>\n",
    "    <td></td>\n",
    "    <td></td>\n",
    "    <td></td>\n",
    "    <td class=\"Xintrinsic\"></td>\n",
    "  </tr>\n",
    "  <tr>\n",
    "    <th>Float64</th>\n",
    "    <td></td>\n",
    "    <td></td>\n",
    "    <td></td>\n",
    "    <td></td>\n",
    "    <td></td>\n",
    "    <td></td>\n",
    "    <td class=\"Xintrinsic\"></td>\n",
    "  </tr>\n",
    "  <tr>\n",
    "    <th>BigFloat</th>\n",
    "    <td></td>\n",
    "    <td></td>\n",
    "    <td></td>\n",
    "    <td></td>\n",
    "    <td></td>\n",
    "    <td></td>\n",
    "    <td></td>\n",
    "    <td></td>\n",
    "  </tr>\n",
    "  <tr>\n",
    "    <th>Rational</th>\n",
    "    <td></td>\n",
    "    <td></td>\n",
    "    <td></td>\n",
    "    <td></td>\n",
    "    <td></td>\n",
    "    <td></td>\n",
    "    <td></td>\n",
    "    <td></td>\n",
    "    <td></td>\n",
    "  </tr>\n",
    "  <tr>\n",
    "    <th>Irrational</th>\n",
    "    <td></td>\n",
    "    <td></td>\n",
    "    <td></td>\n",
    "    <td></td>\n",
    "    <td></td>\n",
    "    <td></td>\n",
    "    <td></td>\n",
    "    <td></td>\n",
    "    <td></td>\n",
    "    <td></td>\n",
    "  </tr>\n",
    "</table>\n"
   ]
  },
  {
   "cell_type": "markdown",
   "metadata": {
    "slideshow": {
     "slide_type": "slide"
    }
   },
   "source": [
    "# Conversions\n",
    "\n",
    "Certain conversions can be done exactly (without changing the underlying numeric value):\n",
    " - `UInt32` $\\rightarrow$ `UInt64`\n",
    " - `Int32` $\\rightarrow$ `Int64`\n",
    " - `UInt32` $\\rightarrow$ `Float64`\n",
    " - `Int32` $\\rightarrow$ `Float64`\n",
    " - `Float32` $\\rightarrow$ `Float64`\n",
    " \n",
    "We can use this to fill in some gaps."
   ]
  },
  {
   "cell_type": "markdown",
   "metadata": {
    "slideshow": {
     "slide_type": "subslide"
    }
   },
   "source": [
    "<table class=\"tg\" >\n",
    "  <tr>\n",
    "    <th></th>\n",
    "    <th>UInt32</th>\n",
    "    <th>UInt64</th>\n",
    "    <th>Int32</th>\n",
    "    <th>Int64</th>\n",
    "    <th>BigInt</th>\n",
    "    <th>Float32</th>\n",
    "    <th>Float64</th>\n",
    "    <th>BigFloat</th>\n",
    "    <th>Rational</th>\n",
    "    <th>Irrational</th>\n",
    "  </tr>\n",
    "  <tr>\n",
    "    <th>UInt32</th>\n",
    "    <td class=\"Xintrinsic\"></td>\n",
    "  </tr>\n",
    "  <tr>\n",
    "    <th>UInt64</th>\n",
    "    <td class=\"Xintrinsic-conv\"></td>\n",
    "    <td class=\"Xintrinsic\"></td>\n",
    "  </tr>\n",
    "  <tr>\n",
    "    <th>Int32</th>\n",
    "    <td></td>\n",
    "    <td></td>\n",
    "    <td class=\"Xintrinsic\"></td>\n",
    "  </tr>\n",
    "  <tr>\n",
    "    <th>Int64</th>\n",
    "    <td></td>\n",
    "    <td></td>\n",
    "    <td class=\"Xintrinsic-conv\"></td>\n",
    "    <td class=\"Xintrinsic\"></td>\n",
    "  </tr>\n",
    "  <tr>\n",
    "    <th>BigInt</th>\n",
    "    <td></td>\n",
    "    <td></td>\n",
    "    <td></td>\n",
    "    <td></td>\n",
    "    <td></td>\n",
    "  </tr>\n",
    "  <tr>\n",
    "    <th>Float32</th>\n",
    "    <td class=\"Xintrinsic-conv\"></td>\n",
    "    <td></td>\n",
    "    <td class=\"Xintrinsic-conv\"></td>\n",
    "    <td></td>\n",
    "    <td></td>\n",
    "    <td class=\"Xintrinsic\"></td>\n",
    "  </tr>\n",
    "  <tr>\n",
    "    <th>Float64</th>\n",
    "    <td class=\"Xintrinsic-conv\"></td>\n",
    "    <td></td>\n",
    "    <td class=\"Xintrinsic-conv\"></td>\n",
    "    <td></td>\n",
    "    <td></td>\n",
    "    <td class=\"Xintrinsic-conv\"></td>\n",
    "    <td class=\"Xintrinsic\"></td>\n",
    "  </tr>\n",
    "  <tr>\n",
    "    <th>BigFloat</th>\n",
    "    <td></td>\n",
    "    <td></td>\n",
    "    <td></td>\n",
    "    <td></td>\n",
    "    <td></td>\n",
    "    <td></td>\n",
    "    <td></td>\n",
    "    <td></td>\n",
    "  </tr>\n",
    "  <tr>\n",
    "    <th>Rational</th>\n",
    "    <td></td>\n",
    "    <td></td>\n",
    "    <td></td>\n",
    "    <td></td>\n",
    "    <td></td>\n",
    "    <td></td>\n",
    "    <td></td>\n",
    "    <td></td>\n",
    "    <td></td>\n",
    "  </tr>\n",
    "  <tr>\n",
    "    <th>Irrational</th>\n",
    "    <td></td>\n",
    "    <td></td>\n",
    "    <td></td>\n",
    "    <td></td>\n",
    "    <td></td>\n",
    "    <td></td>\n",
    "    <td></td>\n",
    "    <td></td>\n",
    "    <td></td>\n",
    "    <td></td>\n",
    "  </tr>\n",
    "</table>\n"
   ]
  },
  {
   "cell_type": "markdown",
   "metadata": {
    "slideshow": {
     "slide_type": "slide"
    }
   },
   "source": [
    "# Library functions\n",
    "\n",
    "`BigInt` and `BigFloat` are wrappers around external libraries (GMP and MPFR), which provide various comparison operators."
   ]
  },
  {
   "cell_type": "markdown",
   "metadata": {
    "slideshow": {
     "slide_type": "subslide"
    }
   },
   "source": [
    "<table class=\"tg\" >\n",
    "  <tr>\n",
    "    <th></th>\n",
    "    <th>UInt32</th>\n",
    "    <th>UInt64</th>\n",
    "    <th>Int32</th>\n",
    "    <th>Int64</th>\n",
    "    <th>BigInt</th>\n",
    "    <th>Float32</th>\n",
    "    <th>Float64</th>\n",
    "    <th>BigFloat</th>\n",
    "    <th>Rational</th>\n",
    "    <th>Irrational</th>\n",
    "  </tr>\n",
    "  <tr>\n",
    "    <th>UInt32</th>\n",
    "    <td class=\"Xintrinsic\"></td>\n",
    "  </tr>\n",
    "  <tr>\n",
    "    <th>UInt64</th>\n",
    "    <td class=\"Xintrinsic-conv\"></td>\n",
    "    <td class=\"Xintrinsic\"></td>\n",
    "  </tr>\n",
    "  <tr>\n",
    "    <th>Int32</th>\n",
    "    <td></td>\n",
    "    <td></td>\n",
    "    <td class=\"Xintrinsic\"></td>\n",
    "  </tr>\n",
    "  <tr>\n",
    "    <th>Int64</th>\n",
    "    <td></td>\n",
    "    <td></td>\n",
    "    <td class=\"Xintrinsic-conv\"></td>\n",
    "    <td class=\"Xintrinsic\"></td>\n",
    "  </tr>\n",
    "  <tr>\n",
    "    <th>BigInt</th>\n",
    "    <td class=\"Xlibrary-conv\"></td>\n",
    "    <td class=\"Xlibrary\"></td>\n",
    "    <td class=\"Xlibrary-conv\"></td>\n",
    "    <td class=\"Xlibrary\"></td>\n",
    "    <td class=\"Xlibrary\"></td>\n",
    "  </tr>\n",
    "  <tr>\n",
    "    <th>Float32</th>\n",
    "    <td class=\"Xintrinsic-conv\"></td>\n",
    "    <td></td>\n",
    "    <td class=\"Xintrinsic-conv\"></td>\n",
    "    <td></td>\n",
    "    <td class=\"Xlibrary-conv\"></td>\n",
    "    <td class=\"Xintrinsic\"></td>\n",
    "  </tr>\n",
    "  <tr>\n",
    "    <th>Float64</th>\n",
    "    <td class=\"Xintrinsic-conv\"></td>\n",
    "    <td></td>\n",
    "    <td class=\"Xintrinsic-conv\"></td>\n",
    "    <td></td>\n",
    "    <td class=\"Xlibrary\"></td>\n",
    "    <td class=\"Xintrinsic-conv\"></td>\n",
    "    <td class=\"Xintrinsic\"></td>\n",
    "  </tr>\n",
    "  <tr>\n",
    "    <th>BigFloat</th>\n",
    "    <td class=\"Xlibrary-conv\"></td>\n",
    "    <td class=\"Xlibrary\"></td>\n",
    "    <td class=\"Xlibrary-conv\"></td>\n",
    "    <td class=\"Xlibrary\"></td>\n",
    "    <td class=\"Xlibrary\"></td>\n",
    "    <td class=\"Xlibrary-conv\"></td>\n",
    "    <td class=\"Xlibrary\"></td>\n",
    "    <td class=\"Xlibrary\"></td>\n",
    "  </tr>\n",
    "  <tr>\n",
    "    <th>Rational</th>\n",
    "    <td></td>\n",
    "    <td></td>\n",
    "    <td></td>\n",
    "    <td></td>\n",
    "    <td></td>\n",
    "    <td></td>\n",
    "    <td></td>\n",
    "    <td></td>\n",
    "    <td></td>\n",
    "  </tr>\n",
    "  <tr>\n",
    "    <th>Irrational</th>\n",
    "    <td></td>\n",
    "    <td></td>\n",
    "    <td></td>\n",
    "    <td></td>\n",
    "    <td></td>\n",
    "    <td></td>\n",
    "    <td></td>\n",
    "    <td></td>\n",
    "    <td></td>\n",
    "    <td></td>\n",
    "  </tr>\n",
    "</table>\n"
   ]
  },
  {
   "cell_type": "markdown",
   "metadata": {
    "slideshow": {
     "slide_type": "slide"
    }
   },
   "source": [
    "# Unsigned vs Signed\n",
    "\n",
    "```julia\n",
    "<( x::BitSigned,   y::BitUnsigned) = (x <  0) | (unsigned(x) <  y)\n",
    "<( x::BitUnsigned, y::BitSigned  ) = (y >= 0) & (x <  unsigned(y))\n",
    "```\n",
    "\n",
    "- check if the signed value is less than zero\n",
    "- `unsigned` simply reinterprets a signed as an unsigned integer"
   ]
  },
  {
   "cell_type": "markdown",
   "metadata": {
    "slideshow": {
     "slide_type": "subslide"
    }
   },
   "source": [
    "<table class=\"tg\" >\n",
    "  <tr>\n",
    "    <th></th>\n",
    "    <th>UInt32</th>\n",
    "    <th>UInt64</th>\n",
    "    <th>Int32</th>\n",
    "    <th>Int64</th>\n",
    "    <th>BigInt</th>\n",
    "    <th>Float32</th>\n",
    "    <th>Float64</th>\n",
    "    <th>BigFloat</th>\n",
    "    <th>Rational</th>\n",
    "    <th>Irrational</th>\n",
    "  </tr>\n",
    "  <tr>\n",
    "    <th>UInt32</th>\n",
    "    <td class=\"Xintrinsic\"></td>\n",
    "  </tr>\n",
    "  <tr>\n",
    "    <th>UInt64</th>\n",
    "    <td class=\"Xintrinsic-conv\"></td>\n",
    "    <td class=\"Xintrinsic\"></td>\n",
    "  </tr>\n",
    "  <tr>\n",
    "    <th>Int32</th>\n",
    "    <td class=\"Xzero\"></td>\n",
    "    <td class=\"Xzero\"></td>\n",
    "    <td class=\"Xintrinsic\"></td>\n",
    "  </tr>\n",
    "  <tr>\n",
    "    <th>Int64</th>\n",
    "    <td class=\"Xzero\"></td>\n",
    "    <td class=\"Xzero\"></td>\n",
    "    <td class=\"Xintrinsic-conv\"></td>\n",
    "    <td class=\"Xintrinsic\"></td>\n",
    "  </tr>\n",
    "  <tr>\n",
    "    <th>BigInt</th>\n",
    "    <td class=\"Xlibrary-conv\"></td>\n",
    "    <td class=\"Xlibrary\"></td>\n",
    "    <td class=\"Xlibrary-conv\"></td>\n",
    "    <td class=\"Xlibrary\"></td>\n",
    "    <td class=\"Xlibrary\"></td>\n",
    "  </tr>\n",
    "  <tr>\n",
    "    <th>Float32</th>\n",
    "    <td class=\"Xintrinsic-conv\"></td>\n",
    "    <td></td>\n",
    "    <td class=\"Xintrinsic-conv\"></td>\n",
    "    <td></td>\n",
    "    <td class=\"Xlibrary-conv\"></td>\n",
    "    <td class=\"Xintrinsic\"></td>\n",
    "  </tr>\n",
    "  <tr>\n",
    "    <th>Float64</th>\n",
    "    <td class=\"Xintrinsic-conv\"></td>\n",
    "    <td></td>\n",
    "    <td class=\"Xintrinsic-conv\"></td>\n",
    "    <td></td>\n",
    "    <td class=\"Xlibrary\"></td>\n",
    "    <td class=\"Xintrinsic-conv\"></td>\n",
    "    <td class=\"Xintrinsic\"></td>\n",
    "  </tr>\n",
    "  <tr>\n",
    "    <th>BigFloat</th>\n",
    "    <td class=\"Xlibrary-conv\"></td>\n",
    "    <td class=\"Xlibrary\"></td>\n",
    "    <td class=\"Xlibrary-conv\"></td>\n",
    "    <td class=\"Xlibrary\"></td>\n",
    "    <td class=\"Xlibrary\"></td>\n",
    "    <td class=\"Xlibrary-conv\"></td>\n",
    "    <td class=\"Xlibrary\"></td>\n",
    "    <td class=\"Xlibrary\"></td>\n",
    "  </tr>\n",
    "  <tr>\n",
    "    <th>Rational</th>\n",
    "    <td></td>\n",
    "    <td></td>\n",
    "    <td></td>\n",
    "    <td></td>\n",
    "    <td></td>\n",
    "    <td></td>\n",
    "    <td></td>\n",
    "    <td></td>\n",
    "    <td></td>\n",
    "  </tr>\n",
    "  <tr>\n",
    "    <th>Irrational</th>\n",
    "    <td></td>\n",
    "    <td></td>\n",
    "    <td></td>\n",
    "    <td></td>\n",
    "    <td></td>\n",
    "    <td></td>\n",
    "    <td></td>\n",
    "    <td></td>\n",
    "    <td></td>\n",
    "    <td></td>\n",
    "  </tr>\n",
    "</table>\n"
   ]
  },
  {
   "cell_type": "markdown",
   "metadata": {
    "slideshow": {
     "slide_type": "slide"
    }
   },
   "source": [
    "# `Int64`/`UInt64` vs `Float64`\n",
    "\n",
    "```julia\n",
    "function <(x::Float64, y::Union{UInt64, Int64})\n",
    "    fy = Float64(y)\n",
    "    (x < fy) | ((x == fy) & (fy < Float64(typemax(y))) & (unsafe_trunc(typeof(y),fy) < y))\n",
    "end\n",
    "```\n",
    "\n",
    "1. Convert the integer to a `Float64`\n",
    "2. Compare that to the float\n",
    "  - If `!=`, then we're done!\n",
    "  - If `==`, there may have been rounding in step 1.\n",
    "4. Check if the float is `2.0^64` / `2.0^63`\n",
    "  - these are the only potential values which can't be safely converted back to an integer\n",
    "5. Convert back to an integer, and do an integer comparison."
   ]
  },
  {
   "cell_type": "markdown",
   "metadata": {
    "slideshow": {
     "slide_type": "subslide"
    }
   },
   "source": [
    "- Though complicated, actually not that bad in terms of performance\n",
    "  - Can be fully pipelined\n",
    "  - Compiler is pretty goood at eliding unnecessary computations when one value is a constant.\n",
    "- Original to Julia as far as I'm aware ([`61fe3b9c3`](https://github.com/JuliaLang/julia/commit/61fe3b9c3a488de7267dfd26f99bf538aac099c6) was the initial commit)."
   ]
  },
  {
   "cell_type": "markdown",
   "metadata": {
    "slideshow": {
     "slide_type": "subslide"
    }
   },
   "source": [
    "<table class=\"tg\" >\n",
    "  <tr>\n",
    "    <th></th>\n",
    "    <th>UInt32</th>\n",
    "    <th>UInt64</th>\n",
    "    <th>Int32</th>\n",
    "    <th>Int64</th>\n",
    "    <th>BigInt</th>\n",
    "    <th>Float32</th>\n",
    "    <th>Float64</th>\n",
    "    <th>BigFloat</th>\n",
    "    <th>Rational</th>\n",
    "    <th>Irrational</th>\n",
    "  </tr>\n",
    "  <tr>\n",
    "    <th>UInt32</th>\n",
    "    <td class=\"Xintrinsic\"></td>\n",
    "  </tr>\n",
    "  <tr>\n",
    "    <th>UInt64</th>\n",
    "    <td class=\"Xintrinsic-conv\"></td>\n",
    "    <td class=\"Xintrinsic\"></td>\n",
    "  </tr>\n",
    "  <tr>\n",
    "    <th>Int32</th>\n",
    "    <td class=\"Xzero\"></td>\n",
    "    <td class=\"Xzero\"></td>\n",
    "    <td class=\"Xintrinsic\"></td>\n",
    "  </tr>\n",
    "  <tr>\n",
    "    <th>Int64</th>\n",
    "    <td class=\"Xzero\"></td>\n",
    "    <td class=\"Xzero\"></td>\n",
    "    <td class=\"Xintrinsic-conv\"></td>\n",
    "    <td class=\"Xintrinsic\"></td>\n",
    "  </tr>\n",
    "  <tr>\n",
    "    <th>BigInt</th>\n",
    "    <td class=\"Xlibrary-conv\"></td>\n",
    "    <td class=\"Xlibrary\"></td>\n",
    "    <td class=\"Xlibrary-conv\"></td>\n",
    "    <td class=\"Xlibrary\"></td>\n",
    "    <td class=\"Xlibrary\"></td>\n",
    "  </tr>\n",
    "  <tr>\n",
    "    <th>Float32</th>\n",
    "    <td class=\"Xintrinsic-conv\"></td>\n",
    "    <td class=\"Xdouble-conv\"></td>\n",
    "    <td class=\"Xintrinsic-conv\"></td>\n",
    "    <td class=\"Xdouble-conv\"></td>\n",
    "    <td class=\"Xlibrary-conv\"></td>\n",
    "    <td class=\"Xintrinsic\"></td>\n",
    "  </tr>\n",
    "  <tr>\n",
    "    <th>Float64</th>\n",
    "    <td class=\"Xintrinsic-conv\"></td>\n",
    "    <td class=\"Xdouble\"></td>\n",
    "    <td class=\"Xintrinsic-conv\"></td>\n",
    "    <td class=\"Xdouble\"></td>\n",
    "    <td class=\"Xlibrary\"></td>\n",
    "    <td class=\"Xintrinsic-conv\"></td>\n",
    "    <td class=\"Xintrinsic\"></td>\n",
    "  </tr>\n",
    "  <tr>\n",
    "    <th>BigFloat</th>\n",
    "    <td class=\"Xlibrary-conv\"></td>\n",
    "    <td class=\"Xlibrary\"></td>\n",
    "    <td class=\"Xlibrary-conv\"></td>\n",
    "    <td class=\"Xlibrary\"></td>\n",
    "    <td class=\"Xlibrary\"></td>\n",
    "    <td class=\"Xlibrary-conv\"></td>\n",
    "    <td class=\"Xlibrary\"></td>\n",
    "    <td class=\"Xlibrary\"></td>\n",
    "  </tr>\n",
    "  <tr>\n",
    "    <th>Rational</th>\n",
    "    <td></td>\n",
    "    <td></td>\n",
    "    <td></td>\n",
    "    <td></td>\n",
    "    <td></td>\n",
    "    <td></td>\n",
    "    <td></td>\n",
    "    <td></td>\n",
    "    <td></td>\n",
    "  </tr>\n",
    "  <tr>\n",
    "    <th>Irrational</th>\n",
    "    <td></td>\n",
    "    <td></td>\n",
    "    <td></td>\n",
    "    <td></td>\n",
    "    <td></td>\n",
    "    <td></td>\n",
    "    <td></td>\n",
    "    <td></td>\n",
    "    <td></td>\n",
    "    <td></td>\n",
    "  </tr>\n",
    "</table>\n"
   ]
  },
  {
   "cell_type": "markdown",
   "metadata": {
    "slideshow": {
     "slide_type": "slide"
    }
   },
   "source": [
    "# `Rational` vs `Integer`/`Rational`\n",
    "\n",
    "Cross-multiply the denominator:\n",
    "```julia\n",
    "<(x::Rational, y::Integer ) = x.num < widemul(x.den,y)\n",
    "<(x::Rational, y::Rational) = widemul(x.num,y.den) < widemul(x.den,y.num)\n",
    "```\n",
    "\n",
    "- denominator is constrained by the constructor to be positive\n",
    "  - don't need to check signs\n",
    "- `widemul` returns an integer of a sufficiently wide type so that there is no overflow"
   ]
  },
  {
   "cell_type": "markdown",
   "metadata": {
    "slideshow": {
     "slide_type": "subslide"
    }
   },
   "source": [
    "<table class=\"tg\" >\n",
    "  <tr>\n",
    "    <th></th>\n",
    "    <th>UInt32</th>\n",
    "    <th>UInt64</th>\n",
    "    <th>Int32</th>\n",
    "    <th>Int64</th>\n",
    "    <th>BigInt</th>\n",
    "    <th>Float32</th>\n",
    "    <th>Float64</th>\n",
    "    <th>BigFloat</th>\n",
    "    <th>Rational</th>\n",
    "    <th>Irrational</th>\n",
    "  </tr>\n",
    "  <tr>\n",
    "    <th>UInt32</th>\n",
    "    <td class=\"Xintrinsic\"></td>\n",
    "  </tr>\n",
    "  <tr>\n",
    "    <th>UInt64</th>\n",
    "    <td class=\"Xintrinsic-conv\"></td>\n",
    "    <td class=\"Xintrinsic\"></td>\n",
    "  </tr>\n",
    "  <tr>\n",
    "    <th>Int32</th>\n",
    "    <td class=\"Xzero\"></td>\n",
    "    <td class=\"Xzero\"></td>\n",
    "    <td class=\"Xintrinsic\"></td>\n",
    "  </tr>\n",
    "  <tr>\n",
    "    <th>Int64</th>\n",
    "    <td class=\"Xzero\"></td>\n",
    "    <td class=\"Xzero\"></td>\n",
    "    <td class=\"Xintrinsic-conv\"></td>\n",
    "    <td class=\"Xintrinsic\"></td>\n",
    "  </tr>\n",
    "  <tr>\n",
    "    <th>BigInt</th>\n",
    "    <td class=\"Xlibrary-conv\"></td>\n",
    "    <td class=\"Xlibrary\"></td>\n",
    "    <td class=\"Xlibrary-conv\"></td>\n",
    "    <td class=\"Xlibrary\"></td>\n",
    "    <td class=\"Xlibrary\"></td>\n",
    "  </tr>\n",
    "  <tr>\n",
    "    <th>Float32</th>\n",
    "    <td class=\"Xintrinsic-conv\"></td>\n",
    "    <td class=\"Xdouble-conv\"></td>\n",
    "    <td class=\"Xintrinsic-conv\"></td>\n",
    "    <td class=\"Xdouble-conv\"></td>\n",
    "    <td class=\"Xlibrary-conv\"></td>\n",
    "    <td class=\"Xintrinsic\"></td>\n",
    "  </tr>\n",
    "  <tr>\n",
    "    <th>Float64</th>\n",
    "    <td class=\"Xintrinsic-conv\"></td>\n",
    "    <td class=\"Xdouble\"></td>\n",
    "    <td class=\"Xintrinsic-conv\"></td>\n",
    "    <td class=\"Xdouble\"></td>\n",
    "    <td class=\"Xlibrary\"></td>\n",
    "    <td class=\"Xintrinsic-conv\"></td>\n",
    "    <td class=\"Xintrinsic\"></td>\n",
    "  </tr>\n",
    "  <tr>\n",
    "    <th>BigFloat</th>\n",
    "    <td class=\"Xlibrary-conv\"></td>\n",
    "    <td class=\"Xlibrary\"></td>\n",
    "    <td class=\"Xlibrary-conv\"></td>\n",
    "    <td class=\"Xlibrary\"></td>\n",
    "    <td class=\"Xlibrary\"></td>\n",
    "    <td class=\"Xlibrary-conv\"></td>\n",
    "    <td class=\"Xlibrary\"></td>\n",
    "    <td class=\"Xlibrary\"></td>\n",
    "  </tr>\n",
    "  <tr>\n",
    "    <th>Rational</th>\n",
    "    <td class=\"Xwidemul\"></td>\n",
    "    <td class=\"Xwidemul\"></td>\n",
    "    <td class=\"Xwidemul\"></td>\n",
    "    <td class=\"Xwidemul\"></td>\n",
    "    <td class=\"Xwidemul\"></td>\n",
    "    <td></td>\n",
    "    <td></td>\n",
    "    <td></td>\n",
    "    <td class=\"Xwidemul\"></td>\n",
    "  </tr>\n",
    "  <tr>\n",
    "    <th>Irrational</th>\n",
    "    <td></td>\n",
    "    <td></td>\n",
    "    <td></td>\n",
    "    <td></td>\n",
    "    <td></td>\n",
    "    <td></td>\n",
    "    <td></td>\n",
    "    <td></td>\n",
    "    <td></td>\n",
    "    <td></td>\n",
    "  </tr>\n",
    "</table>\n"
   ]
  },
  {
   "cell_type": "markdown",
   "metadata": {
    "slideshow": {
     "slide_type": "slide"
    }
   },
   "source": [
    "# `Rational` vs floating point\n",
    "\n",
    "```julia\n",
    "function <(x::Rational, y::AbstractFloat)\n",
    "    (isnan(x) || isnan(y)) && return false\n",
    "\n",
    "    xn, xp, xd = decompose(x)\n",
    "    yn, yp, yd = decompose(y)\n",
    "\n",
    "    if xd < 0\n",
    "        xn = -xn\n",
    "        xd = -xd\n",
    "    end\n",
    "    if yd < 0\n",
    "        yn = -yn\n",
    "        yd = -yd\n",
    "    end\n",
    "\n",
    "    xc, yc = widemul(xn,yd), widemul(yn,xd)\n",
    "    xs, ys = sign(xc), sign(yc)\n",
    "\n",
    "    if xs != ys\n",
    "        return xs < ys\n",
    "    elseif xs == 0\n",
    "        # both are zero or ±Inf\n",
    "        return xn < yn\n",
    "    end\n",
    "\n",
    "    xb, yb = ndigits0z(xc,2) + xp, ndigits0z(yc,2) + yp\n",
    "\n",
    "    if xb == yb\n",
    "        xc, yc = promote(xc,yc)\n",
    "        if xp > yp\n",
    "            xc = (xc<<(xp-yp))\n",
    "        else\n",
    "            yc = (yc<<(yp-xp))\n",
    "        end\n",
    "        return xc < yc\n",
    "    else\n",
    "        return xc > 0 ? xb < yb : yb < xb\n",
    "    end\n",
    "end\n",
    "```"
   ]
  },
  {
   "cell_type": "markdown",
   "metadata": {
    "slideshow": {
     "slide_type": "subslide"
    }
   },
   "source": [
    "1. Check for NaNs\n",
    "2. Cross multiply rational with significand of float\n",
    "3. Compare based on signs\n",
    " - if different, we're done\n",
    "4. Compare based on magnitude of leading digit\n",
    " - if different, we're done\n",
    "5. Compare based on values of cross multiplication"
   ]
  },
  {
   "cell_type": "markdown",
   "metadata": {
    "slideshow": {
     "slide_type": "subslide"
    }
   },
   "source": [
    "<table class=\"tg\" >\n",
    "  <tr>\n",
    "    <th></th>\n",
    "    <th>UInt32</th>\n",
    "    <th>UInt64</th>\n",
    "    <th>Int32</th>\n",
    "    <th>Int64</th>\n",
    "    <th>BigInt</th>\n",
    "    <th>Float32</th>\n",
    "    <th>Float64</th>\n",
    "    <th>BigFloat</th>\n",
    "    <th>Rational</th>\n",
    "    <th>Irrational</th>\n",
    "  </tr>\n",
    "  <tr>\n",
    "    <th>UInt32</th>\n",
    "    <td class=\"Xintrinsic\"></td>\n",
    "  </tr>\n",
    "  <tr>\n",
    "    <th>UInt64</th>\n",
    "    <td class=\"Xintrinsic-conv\"></td>\n",
    "    <td class=\"Xintrinsic\"></td>\n",
    "  </tr>\n",
    "  <tr>\n",
    "    <th>Int32</th>\n",
    "    <td class=\"Xzero\"></td>\n",
    "    <td class=\"Xzero\"></td>\n",
    "    <td class=\"Xintrinsic\"></td>\n",
    "  </tr>\n",
    "  <tr>\n",
    "    <th>Int64</th>\n",
    "    <td class=\"Xzero\"></td>\n",
    "    <td class=\"Xzero\"></td>\n",
    "    <td class=\"Xintrinsic-conv\"></td>\n",
    "    <td class=\"Xintrinsic\"></td>\n",
    "  </tr>\n",
    "  <tr>\n",
    "    <th>BigInt</th>\n",
    "    <td class=\"Xlibrary-conv\"></td>\n",
    "    <td class=\"Xlibrary\"></td>\n",
    "    <td class=\"Xlibrary-conv\"></td>\n",
    "    <td class=\"Xlibrary\"></td>\n",
    "    <td class=\"Xlibrary\"></td>\n",
    "  </tr>\n",
    "  <tr>\n",
    "    <th>Float32</th>\n",
    "    <td class=\"Xintrinsic-conv\"></td>\n",
    "    <td class=\"Xdouble-conv\"></td>\n",
    "    <td class=\"Xintrinsic-conv\"></td>\n",
    "    <td class=\"Xdouble-conv\"></td>\n",
    "    <td class=\"Xlibrary-conv\"></td>\n",
    "    <td class=\"Xintrinsic\"></td>\n",
    "  </tr>\n",
    "  <tr>\n",
    "    <th>Float64</th>\n",
    "    <td class=\"Xintrinsic-conv\"></td>\n",
    "    <td class=\"Xdouble\"></td>\n",
    "    <td class=\"Xintrinsic-conv\"></td>\n",
    "    <td class=\"Xdouble\"></td>\n",
    "    <td class=\"Xlibrary\"></td>\n",
    "    <td class=\"Xintrinsic-conv\"></td>\n",
    "    <td class=\"Xintrinsic\"></td>\n",
    "  </tr>\n",
    "  <tr>\n",
    "    <th>BigFloat</th>\n",
    "    <td class=\"Xlibrary-conv\"></td>\n",
    "    <td class=\"Xlibrary\"></td>\n",
    "    <td class=\"Xlibrary-conv\"></td>\n",
    "    <td class=\"Xlibrary\"></td>\n",
    "    <td class=\"Xlibrary\"></td>\n",
    "    <td class=\"Xlibrary-conv\"></td>\n",
    "    <td class=\"Xlibrary\"></td>\n",
    "    <td class=\"Xlibrary\"></td>\n",
    "  </tr>\n",
    "  <tr>\n",
    "    <th>Rational</th>\n",
    "    <td class=\"Xwidemul\"></td>\n",
    "    <td class=\"Xwidemul\"></td>\n",
    "    <td class=\"Xwidemul\"></td>\n",
    "    <td class=\"Xwidemul\"></td>\n",
    "    <td class=\"Xwidemul\"></td>\n",
    "    <td class=\"Xdecompose\"></td>\n",
    "    <td class=\"Xdecompose\"></td>\n",
    "    <td class=\"Xdecompose\"></td>\n",
    "    <td class=\"Xwidemul\"></td>\n",
    "  </tr>\n",
    "  <tr>\n",
    "    <th>Irrational</th>\n",
    "    <td></td>\n",
    "    <td></td>\n",
    "    <td></td>\n",
    "    <td></td>\n",
    "    <td></td>\n",
    "    <td></td>\n",
    "    <td></td>\n",
    "    <td></td>\n",
    "    <td></td>\n",
    "    <td></td>\n",
    "  </tr>\n",
    "</table>\n"
   ]
  },
  {
   "cell_type": "markdown",
   "metadata": {
    "slideshow": {
     "slide_type": "slide"
    }
   },
   "source": [
    "# `Irrational`s\n",
    "\n",
    "Julia provides various constants as a parametric type"
   ]
  },
  {
   "cell_type": "code",
   "execution_count": 12,
   "metadata": {},
   "outputs": [
    {
     "data": {
      "text/plain": [
       "π = 3.1415926535897..."
      ]
     },
     "execution_count": 12,
     "metadata": {},
     "output_type": "execute_result"
    }
   ],
   "source": [
    "pi"
   ]
  },
  {
   "cell_type": "code",
   "execution_count": 13,
   "metadata": {},
   "outputs": [
    {
     "data": {
      "text/plain": [
       "true"
      ]
     },
     "execution_count": 13,
     "metadata": {},
     "output_type": "execute_result"
    }
   ],
   "source": [
    "Float64(pi) < pi"
   ]
  },
  {
   "cell_type": "code",
   "execution_count": 14,
   "metadata": {},
   "outputs": [
    {
     "data": {
      "text/plain": [
       "Irrational{:π}"
      ]
     },
     "execution_count": 14,
     "metadata": {},
     "output_type": "execute_result"
    }
   ],
   "source": [
    "typeof(pi)"
   ]
  },
  {
   "cell_type": "markdown",
   "metadata": {
    "slideshow": {
     "slide_type": "slide"
    }
   },
   "source": [
    "# `Irrational` vs `Float64`\n",
    "\n",
    "```julia\n",
    "<(x::Irrational, y::Float64) = Float64(x,RoundUp) <= y\n",
    "<(x::Float64, y::Irrational) = x <= Float64(y,RoundDown)\n",
    "```\n",
    "\n",
    "- Exploits the fact that `Irrational` must occur between two `Float64`s (since a `Float64` is always rational).\n",
    "- `Float64(x, RoundUp)` gives the smallest `Float64` which is greater than or equal to `x`."
   ]
  },
  {
   "cell_type": "markdown",
   "metadata": {
    "slideshow": {
     "slide_type": "subslide"
    }
   },
   "source": [
    "<table class=\"tg\" >\n",
    "  <tr>\n",
    "    <th></th>\n",
    "    <th>UInt32</th>\n",
    "    <th>UInt64</th>\n",
    "    <th>Int32</th>\n",
    "    <th>Int64</th>\n",
    "    <th>BigInt</th>\n",
    "    <th>Float32</th>\n",
    "    <th>Float64</th>\n",
    "    <th>BigFloat</th>\n",
    "    <th>Rational</th>\n",
    "    <th>Irrational</th>\n",
    "  </tr>\n",
    "  <tr>\n",
    "    <th>UInt32</th>\n",
    "    <td class=\"Xintrinsic\"></td>\n",
    "  </tr>\n",
    "  <tr>\n",
    "    <th>UInt64</th>\n",
    "    <td class=\"Xintrinsic-conv\"></td>\n",
    "    <td class=\"Xintrinsic\"></td>\n",
    "  </tr>\n",
    "  <tr>\n",
    "    <th>Int32</th>\n",
    "    <td class=\"Xzero\"></td>\n",
    "    <td class=\"Xzero\"></td>\n",
    "    <td class=\"Xintrinsic\"></td>\n",
    "  </tr>\n",
    "  <tr>\n",
    "    <th>Int64</th>\n",
    "    <td class=\"Xzero\"></td>\n",
    "    <td class=\"Xzero\"></td>\n",
    "    <td class=\"Xintrinsic-conv\"></td>\n",
    "    <td class=\"Xintrinsic\"></td>\n",
    "  </tr>\n",
    "  <tr>\n",
    "    <th>BigInt</th>\n",
    "    <td class=\"Xlibrary-conv\"></td>\n",
    "    <td class=\"Xlibrary\"></td>\n",
    "    <td class=\"Xlibrary-conv\"></td>\n",
    "    <td class=\"Xlibrary\"></td>\n",
    "    <td class=\"Xlibrary\"></td>\n",
    "  </tr>\n",
    "  <tr>\n",
    "    <th>Float32</th>\n",
    "    <td class=\"Xintrinsic-conv\"></td>\n",
    "    <td class=\"Xdouble-conv\"></td>\n",
    "    <td class=\"Xintrinsic-conv\"></td>\n",
    "    <td class=\"Xdouble-conv\"></td>\n",
    "    <td class=\"Xlibrary-conv\"></td>\n",
    "    <td class=\"Xintrinsic\"></td>\n",
    "  </tr>\n",
    "  <tr>\n",
    "    <th>Float64</th>\n",
    "    <td class=\"Xintrinsic-conv\"></td>\n",
    "    <td class=\"Xdouble\"></td>\n",
    "    <td class=\"Xintrinsic-conv\"></td>\n",
    "    <td class=\"Xdouble\"></td>\n",
    "    <td class=\"Xlibrary\"></td>\n",
    "    <td class=\"Xintrinsic-conv\"></td>\n",
    "    <td class=\"Xintrinsic\"></td>\n",
    "  </tr>\n",
    "  <tr>\n",
    "    <th>BigFloat</th>\n",
    "    <td class=\"Xlibrary-conv\"></td>\n",
    "    <td class=\"Xlibrary\"></td>\n",
    "    <td class=\"Xlibrary-conv\"></td>\n",
    "    <td class=\"Xlibrary\"></td>\n",
    "    <td class=\"Xlibrary\"></td>\n",
    "    <td class=\"Xlibrary-conv\"></td>\n",
    "    <td class=\"Xlibrary\"></td>\n",
    "    <td class=\"Xlibrary\"></td>\n",
    "  </tr>\n",
    "  <tr>\n",
    "    <th>Rational</th>\n",
    "    <td class=\"Xwidemul\"></td>\n",
    "    <td class=\"Xwidemul\"></td>\n",
    "    <td class=\"Xwidemul\"></td>\n",
    "    <td class=\"Xwidemul\"></td>\n",
    "    <td class=\"Xwidemul\"></td>\n",
    "    <td class=\"Xdecompose\"></td>\n",
    "    <td class=\"Xdecompose\"></td>\n",
    "    <td class=\"Xdecompose\"></td>\n",
    "    <td class=\"Xwidemul\"></td>\n",
    "  </tr>\n",
    "  <tr>\n",
    "    <th>Irrational</th>\n",
    "    <td class=\"Xround-conv\"></td>\n",
    "    <td class=\"Xround-conv\"></td>\n",
    "    <td class=\"Xround-conv\"></td>\n",
    "    <td class=\"Xround-conv\"></td>\n",
    "    <td></td>\n",
    "    <td class=\"Xround-conv\"></td>\n",
    "    <td class=\"Xround\"></td>\n",
    "    <td></td>\n",
    "    <td></td>\n",
    "    <td></td>\n",
    "  </tr>\n",
    "</table>\n"
   ]
  },
  {
   "cell_type": "markdown",
   "metadata": {
    "slideshow": {
     "slide_type": "slide"
    }
   },
   "source": [
    "# `Irrational` vs `BigFloat`\n",
    "\n",
    "```julia\n",
    "<(x::Irrational, y::BigFloat) = setprecision(precision(y)+32) do\n",
    "    big(x) < y\n",
    "end\n",
    "```\n",
    "\n",
    "- Assumes that an extra 32 bits is sufficient to distinguish an irrational.\n",
    "- We really should use a loop and keep adding bits until not equal."
   ]
  },
  {
   "cell_type": "markdown",
   "metadata": {
    "slideshow": {
     "slide_type": "subslide"
    }
   },
   "source": [
    "<table class=\"tg\" >\n",
    "  <tr>\n",
    "    <th></th>\n",
    "    <th>UInt32</th>\n",
    "    <th>UInt64</th>\n",
    "    <th>Int32</th>\n",
    "    <th>Int64</th>\n",
    "    <th>BigInt</th>\n",
    "    <th>Float32</th>\n",
    "    <th>Float64</th>\n",
    "    <th>BigFloat</th>\n",
    "    <th>Rational</th>\n",
    "    <th>Irrational</th>\n",
    "  </tr>\n",
    "  <tr>\n",
    "    <th>UInt32</th>\n",
    "    <td class=\"Xintrinsic\"></td>\n",
    "  </tr>\n",
    "  <tr>\n",
    "    <th>UInt64</th>\n",
    "    <td class=\"Xintrinsic-conv\"></td>\n",
    "    <td class=\"Xintrinsic\"></td>\n",
    "  </tr>\n",
    "  <tr>\n",
    "    <th>Int32</th>\n",
    "    <td class=\"Xzero\"></td>\n",
    "    <td class=\"Xzero\"></td>\n",
    "    <td class=\"Xintrinsic\"></td>\n",
    "  </tr>\n",
    "  <tr>\n",
    "    <th>Int64</th>\n",
    "    <td class=\"Xzero\"></td>\n",
    "    <td class=\"Xzero\"></td>\n",
    "    <td class=\"Xintrinsic-conv\"></td>\n",
    "    <td class=\"Xintrinsic\"></td>\n",
    "  </tr>\n",
    "  <tr>\n",
    "    <th>BigInt</th>\n",
    "    <td class=\"Xlibrary-conv\"></td>\n",
    "    <td class=\"Xlibrary\"></td>\n",
    "    <td class=\"Xlibrary-conv\"></td>\n",
    "    <td class=\"Xlibrary\"></td>\n",
    "    <td class=\"Xlibrary\"></td>\n",
    "  </tr>\n",
    "  <tr>\n",
    "    <th>Float32</th>\n",
    "    <td class=\"Xintrinsic-conv\"></td>\n",
    "    <td class=\"Xdouble-conv\"></td>\n",
    "    <td class=\"Xintrinsic-conv\"></td>\n",
    "    <td class=\"Xdouble-conv\"></td>\n",
    "    <td class=\"Xlibrary-conv\"></td>\n",
    "    <td class=\"Xintrinsic\"></td>\n",
    "  </tr>\n",
    "  <tr>\n",
    "    <th>Float64</th>\n",
    "    <td class=\"Xintrinsic-conv\"></td>\n",
    "    <td class=\"Xdouble\"></td>\n",
    "    <td class=\"Xintrinsic-conv\"></td>\n",
    "    <td class=\"Xdouble\"></td>\n",
    "    <td class=\"Xlibrary\"></td>\n",
    "    <td class=\"Xintrinsic-conv\"></td>\n",
    "    <td class=\"Xintrinsic\"></td>\n",
    "  </tr>\n",
    "  <tr>\n",
    "    <th>BigFloat</th>\n",
    "    <td class=\"Xlibrary-conv\"></td>\n",
    "    <td class=\"Xlibrary\"></td>\n",
    "    <td class=\"Xlibrary-conv\"></td>\n",
    "    <td class=\"Xlibrary\"></td>\n",
    "    <td class=\"Xlibrary\"></td>\n",
    "    <td class=\"Xlibrary-conv\"></td>\n",
    "    <td class=\"Xlibrary\"></td>\n",
    "    <td class=\"Xlibrary\"></td>\n",
    "  </tr>\n",
    "  <tr>\n",
    "    <th>Rational</th>\n",
    "    <td class=\"Xwidemul\"></td>\n",
    "    <td class=\"Xwidemul\"></td>\n",
    "    <td class=\"Xwidemul\"></td>\n",
    "    <td class=\"Xwidemul\"></td>\n",
    "    <td class=\"Xwidemul\"></td>\n",
    "    <td class=\"Xdecompose\"></td>\n",
    "    <td class=\"Xdecompose\"></td>\n",
    "    <td class=\"Xdecompose\"></td>\n",
    "    <td class=\"Xwidemul\"></td>\n",
    "  </tr>\n",
    "  <tr>\n",
    "    <th>Irrational</th>\n",
    "    <td class=\"Xround-conv\"></td>\n",
    "    <td class=\"Xround-conv\"></td>\n",
    "    <td class=\"Xround-conv\"></td>\n",
    "    <td class=\"Xround-conv\"></td>\n",
    "    <td class=\"Xbig-conv\"></td>\n",
    "    <td class=\"Xround-conv\"></td>\n",
    "    <td class=\"Xround\"></td>\n",
    "    <td class=\"Xbig\"></td>\n",
    "    <td></td>\n",
    "    <td></td>\n",
    "  </tr>\n",
    "</table>\n"
   ]
  },
  {
   "cell_type": "markdown",
   "metadata": {
    "slideshow": {
     "slide_type": "slide"
    }
   },
   "source": [
    "# `Irrational` vs `Rational`\n",
    "\n",
    "```julia\n",
    "function <(x::AbstractIrrational, y::Rational{T}) where T\n",
    "    T <: Unsigned && x < 0.0 && return true\n",
    "    rx = rationalize(T, x)\n",
    "    if lessrational(rx, x)\n",
    "        return rx < y\n",
    "    else\n",
    "        return rx <= y\n",
    "    end\n",
    "end\n",
    "```\n",
    "\n",
    "- `rational(T, x::Irrational)` gives the closest rational number to `x` that fits whose coefficients fit within type `T`\n",
    "  - Computed using the convergents and semi-convergents (calculated from the truncated continued fraction of `x`).\n",
    "\n",
    "- `lessrational(rx,x)` is an `@pure` version of `rx < big(x)`\n",
    "  - Will be evaluated to a constant at compile-time\n",
    "  \n",
    "- Can't be used for `Rational{BigInt}`"
   ]
  },
  {
   "cell_type": "markdown",
   "metadata": {
    "slideshow": {
     "slide_type": "subslide"
    }
   },
   "source": [
    "# `Irrational` vs `Rational{BigInt}`\n",
    "\n",
    "```julia\n",
    "<(x::AbstractIrrational, y::Rational{BigInt}) = big(x) < y\n",
    "```\n",
    "Not strictly correct:"
   ]
  },
  {
   "cell_type": "code",
   "execution_count": 15,
   "metadata": {},
   "outputs": [
    {
     "data": {
      "text/plain": [
       "45471447111470790535029367847216232831674172166049053744846518889742361808273//14474011154664524427946373126085988481658748083205070504932198000989141204992"
      ]
     },
     "execution_count": 15,
     "metadata": {},
     "output_type": "execute_result"
    }
   ],
   "source": [
    "r = 45471447111470790535029367847216232831674172166049053744846518889742361808273//\n",
    "    14474011154664524427946373126085988481658748083205070504932198000989141204992"
   ]
  },
  {
   "cell_type": "code",
   "execution_count": 16,
   "metadata": {},
   "outputs": [
    {
     "data": {
      "text/plain": [
       "false"
      ]
     },
     "execution_count": 16,
     "metadata": {},
     "output_type": "execute_result"
    }
   ],
   "source": [
    "r < pi"
   ]
  },
  {
   "cell_type": "code",
   "execution_count": 17,
   "metadata": {},
   "outputs": [
    {
     "data": {
      "text/plain": [
       "true"
      ]
     },
     "execution_count": 17,
     "metadata": {},
     "output_type": "execute_result"
    }
   ],
   "source": [
    "setprecision(BigFloat, 1024) do\n",
    "    r < pi\n",
    "end"
   ]
  },
  {
   "cell_type": "markdown",
   "metadata": {
    "slideshow": {
     "slide_type": "subslide"
    }
   },
   "source": [
    "## Possible solution\n",
    "\n",
    "Use the fact that the convergents alternate between being smaller and larger: work your way down the continued fraction until you can say for sure."
   ]
  },
  {
   "cell_type": "markdown",
   "metadata": {
    "slideshow": {
     "slide_type": "subslide"
    }
   },
   "source": [
    "<table class=\"tg\" >\n",
    "  <tr>\n",
    "    <th></th>\n",
    "    <th>UInt32</th>\n",
    "    <th>UInt64</th>\n",
    "    <th>Int32</th>\n",
    "    <th>Int64</th>\n",
    "    <th>BigInt</th>\n",
    "    <th>Float32</th>\n",
    "    <th>Float64</th>\n",
    "    <th>BigFloat</th>\n",
    "    <th>Rational</th>\n",
    "    <th>Irrational</th>\n",
    "  </tr>\n",
    "  <tr>\n",
    "    <th>UInt32</th>\n",
    "    <td class=\"Xintrinsic\"></td>\n",
    "  </tr>\n",
    "  <tr>\n",
    "    <th>UInt64</th>\n",
    "    <td class=\"Xintrinsic-conv\"></td>\n",
    "    <td class=\"Xintrinsic\"></td>\n",
    "  </tr>\n",
    "  <tr>\n",
    "    <th>Int32</th>\n",
    "    <td class=\"Xzero\"></td>\n",
    "    <td class=\"Xzero\"></td>\n",
    "    <td class=\"Xintrinsic\"></td>\n",
    "  </tr>\n",
    "  <tr>\n",
    "    <th>Int64</th>\n",
    "    <td class=\"Xzero\"></td>\n",
    "    <td class=\"Xzero\"></td>\n",
    "    <td class=\"Xintrinsic-conv\"></td>\n",
    "    <td class=\"Xintrinsic\"></td>\n",
    "  </tr>\n",
    "  <tr>\n",
    "    <th>BigInt</th>\n",
    "    <td class=\"Xlibrary-conv\"></td>\n",
    "    <td class=\"Xlibrary\"></td>\n",
    "    <td class=\"Xlibrary-conv\"></td>\n",
    "    <td class=\"Xlibrary\"></td>\n",
    "    <td class=\"Xlibrary\"></td>\n",
    "  </tr>\n",
    "  <tr>\n",
    "    <th>Float32</th>\n",
    "    <td class=\"Xintrinsic-conv\"></td>\n",
    "    <td class=\"Xdouble-conv\"></td>\n",
    "    <td class=\"Xintrinsic-conv\"></td>\n",
    "    <td class=\"Xdouble-conv\"></td>\n",
    "    <td class=\"Xlibrary-conv\"></td>\n",
    "    <td class=\"Xintrinsic\"></td>\n",
    "  </tr>\n",
    "  <tr>\n",
    "    <th>Float64</th>\n",
    "    <td class=\"Xintrinsic-conv\"></td>\n",
    "    <td class=\"Xdouble\"></td>\n",
    "    <td class=\"Xintrinsic-conv\"></td>\n",
    "    <td class=\"Xdouble\"></td>\n",
    "    <td class=\"Xlibrary\"></td>\n",
    "    <td class=\"Xintrinsic-conv\"></td>\n",
    "    <td class=\"Xintrinsic\"></td>\n",
    "  </tr>\n",
    "  <tr>\n",
    "    <th>BigFloat</th>\n",
    "    <td class=\"Xlibrary-conv\"></td>\n",
    "    <td class=\"Xlibrary\"></td>\n",
    "    <td class=\"Xlibrary-conv\"></td>\n",
    "    <td class=\"Xlibrary\"></td>\n",
    "    <td class=\"Xlibrary\"></td>\n",
    "    <td class=\"Xlibrary-conv\"></td>\n",
    "    <td class=\"Xlibrary\"></td>\n",
    "    <td class=\"Xlibrary\"></td>\n",
    "  </tr>\n",
    "  <tr>\n",
    "    <th>Rational</th>\n",
    "    <td class=\"Xwidemul\"></td>\n",
    "    <td class=\"Xwidemul\"></td>\n",
    "    <td class=\"Xwidemul\"></td>\n",
    "    <td class=\"Xwidemul\"></td>\n",
    "    <td class=\"Xwidemul\"></td>\n",
    "    <td class=\"Xdecompose\"></td>\n",
    "    <td class=\"Xdecompose\"></td>\n",
    "    <td class=\"Xdecompose\"></td>\n",
    "    <td class=\"Xwidemul\"></td>\n",
    "  </tr>\n",
    "  <tr>\n",
    "    <th>Irrational</th>\n",
    "    <td class=\"Xround-conv\"></td>\n",
    "    <td class=\"Xround-conv\"></td>\n",
    "    <td class=\"Xround-conv\"></td>\n",
    "    <td class=\"Xround-conv\"></td>\n",
    "    <td class=\"Xbig-conv\"></td>\n",
    "    <td class=\"Xround-conv\"></td>\n",
    "    <td class=\"Xround\"></td>\n",
    "    <td class=\"Xbig\"></td>\n",
    "    <td class=\"Xcontinued\"></td>\n",
    "    <td></td>\n",
    "  </tr>\n",
    "</table>\n"
   ]
  },
  {
   "cell_type": "markdown",
   "metadata": {
    "slideshow": {
     "slide_type": "slide"
    }
   },
   "source": [
    "# `Irrational` vs `Irrational`"
   ]
  },
  {
   "cell_type": "code",
   "execution_count": 18,
   "metadata": {},
   "outputs": [
    {
     "ename": "LoadError",
     "evalue": "\u001b[91m< not defined for Irrational{:π}\u001b[39m",
     "output_type": "error",
     "traceback": [
      "\u001b[91m< not defined for Irrational{:π}\u001b[39m",
      "",
      "Stacktrace:",
      " [1] \u001b[1m<\u001b[22m\u001b[22m\u001b[1m(\u001b[22m\u001b[22m::Irrational{:π}, ::Irrational{:π}\u001b[1m)\u001b[22m\u001b[22m at \u001b[1m./promotion.jl:350\u001b[22m\u001b[22m"
     ]
    }
   ],
   "source": [
    "# julia 0.6\n",
    "pi < pi"
   ]
  },
  {
   "cell_type": "markdown",
   "metadata": {
    "slideshow": {
     "slide_type": "fragment"
    }
   },
   "source": [
    "Per Rutquist fixed this a month ago for 0.7/1.0 ([#27797](https://github.com/JuliaLang/julia/pull/27797)):\n",
    "\n",
    "```julia\n",
    "<(::Irrational{s}, ::Irrational{s}) where {s} = false\n",
    "function <(x::AbstractIrrational, y::AbstractIrrational)\n",
    "    Float64(x) != Float64(y) || throw(MethodError(<, (x, y)))\n",
    "    return Float64(x) < Float64(y)\n",
    "end\n",
    "```"
   ]
  },
  {
   "cell_type": "markdown",
   "metadata": {
    "slideshow": {
     "slide_type": "subslide"
    }
   },
   "source": [
    "<table class=\"tg\" >\n",
    "  <tr>\n",
    "    <th></th>\n",
    "    <th>UInt32</th>\n",
    "    <th>UInt64</th>\n",
    "    <th>Int32</th>\n",
    "    <th>Int64</th>\n",
    "    <th>BigInt</th>\n",
    "    <th>Float32</th>\n",
    "    <th>Float64</th>\n",
    "    <th>BigFloat</th>\n",
    "    <th>Rational</th>\n",
    "    <th>Irrational</th>\n",
    "  </tr>\n",
    "  <tr>\n",
    "    <th>UInt32</th>\n",
    "    <td class=\"Xintrinsic\"></td>\n",
    "  </tr>\n",
    "  <tr>\n",
    "    <th>UInt64</th>\n",
    "    <td class=\"Xintrinsic-conv\"></td>\n",
    "    <td class=\"Xintrinsic\"></td>\n",
    "  </tr>\n",
    "  <tr>\n",
    "    <th>Int32</th>\n",
    "    <td class=\"Xzero\"></td>\n",
    "    <td class=\"Xzero\"></td>\n",
    "    <td class=\"Xintrinsic\"></td>\n",
    "  </tr>\n",
    "  <tr>\n",
    "    <th>Int64</th>\n",
    "    <td class=\"Xzero\"></td>\n",
    "    <td class=\"Xzero\"></td>\n",
    "    <td class=\"Xintrinsic-conv\"></td>\n",
    "    <td class=\"Xintrinsic\"></td>\n",
    "  </tr>\n",
    "  <tr>\n",
    "    <th>BigInt</th>\n",
    "    <td class=\"Xlibrary-conv\"></td>\n",
    "    <td class=\"Xlibrary\"></td>\n",
    "    <td class=\"Xlibrary-conv\"></td>\n",
    "    <td class=\"Xlibrary\"></td>\n",
    "    <td class=\"Xlibrary\"></td>\n",
    "  </tr>\n",
    "  <tr>\n",
    "    <th>Float32</th>\n",
    "    <td class=\"Xintrinsic-conv\"></td>\n",
    "    <td class=\"Xdouble-conv\"></td>\n",
    "    <td class=\"Xintrinsic-conv\"></td>\n",
    "    <td class=\"Xdouble-conv\"></td>\n",
    "    <td class=\"Xlibrary-conv\"></td>\n",
    "    <td class=\"Xintrinsic\"></td>\n",
    "  </tr>\n",
    "  <tr>\n",
    "    <th>Float64</th>\n",
    "    <td class=\"Xintrinsic-conv\"></td>\n",
    "    <td class=\"Xdouble\"></td>\n",
    "    <td class=\"Xintrinsic-conv\"></td>\n",
    "    <td class=\"Xdouble\"></td>\n",
    "    <td class=\"Xlibrary\"></td>\n",
    "    <td class=\"Xintrinsic-conv\"></td>\n",
    "    <td class=\"Xintrinsic\"></td>\n",
    "  </tr>\n",
    "  <tr>\n",
    "    <th>BigFloat</th>\n",
    "    <td class=\"Xlibrary-conv\"></td>\n",
    "    <td class=\"Xlibrary\"></td>\n",
    "    <td class=\"Xlibrary-conv\"></td>\n",
    "    <td class=\"Xlibrary\"></td>\n",
    "    <td class=\"Xlibrary\"></td>\n",
    "    <td class=\"Xlibrary-conv\"></td>\n",
    "    <td class=\"Xlibrary\"></td>\n",
    "    <td class=\"Xlibrary\"></td>\n",
    "  </tr>\n",
    "  <tr>\n",
    "    <th>Rational</th>\n",
    "    <td class=\"Xwidemul\"></td>\n",
    "    <td class=\"Xwidemul\"></td>\n",
    "    <td class=\"Xwidemul\"></td>\n",
    "    <td class=\"Xwidemul\"></td>\n",
    "    <td class=\"Xwidemul\"></td>\n",
    "    <td class=\"Xdecompose\"></td>\n",
    "    <td class=\"Xdecompose\"></td>\n",
    "    <td class=\"Xdecompose\"></td>\n",
    "    <td class=\"Xwidemul\"></td>\n",
    "  </tr>\n",
    "  <tr>\n",
    "    <th>Irrational</th>\n",
    "    <td class=\"Xround-conv\"></td>\n",
    "    <td class=\"Xround-conv\"></td>\n",
    "    <td class=\"Xround-conv\"></td>\n",
    "    <td class=\"Xround-conv\"></td>\n",
    "    <td class=\"Xbig-conv\"></td>\n",
    "    <td class=\"Xround-conv\"></td>\n",
    "    <td class=\"Xround\"></td>\n",
    "    <td class=\"Xbig\"></td>\n",
    "    <td class=\"Xcontinued\"></td>\n",
    "    <td class=\"Xnew\"></td>\n",
    "  </tr>\n",
    "</table>\n",
    "\n"
   ]
  },
  {
   "cell_type": "markdown",
   "metadata": {
    "slideshow": {
     "slide_type": "slide"
    }
   },
   "source": [
    "# Extending\n",
    "\n",
    "Multiple dispatch allows easily extending to user-defined types.\n",
    "\n",
    "Still work to do:"
   ]
  },
  {
   "cell_type": "code",
   "execution_count": 27,
   "metadata": {},
   "outputs": [
    {
     "data": {
      "text/plain": [
       "true"
      ]
     },
     "execution_count": 27,
     "metadata": {},
     "output_type": "execute_result"
    }
   ],
   "source": [
    "using DecFP\n",
    "d64\"1e100\" == 1e100"
   ]
  },
  {
   "cell_type": "code",
   "execution_count": 24,
   "metadata": {},
   "outputs": [
    {
     "data": {
      "text/plain": [
       "10000000000000000159028911097599180468360808563945281389781327557747838772170381060813469985856815104"
      ]
     },
     "execution_count": 24,
     "metadata": {},
     "output_type": "execute_result"
    }
   ],
   "source": [
    "BigInt(1e100)"
   ]
  },
  {
   "cell_type": "markdown",
   "metadata": {
    "collapsed": true,
    "slideshow": {
     "slide_type": "slide"
    }
   },
   "source": [
    "# Epilogue\n",
    "\n",
    "- While preparing this talk on Tuesday, I found an issue with the categorisation of the unicode operator $\\eqsim$.\n",
    "- The fix is the only breaking change between 0.7 and 1.0 ([#28511](https://github.com/JuliaLang/julia/pull/28511))."
   ]
  }
 ],
 "metadata": {
  "celltoolbar": "Slideshow",
  "kernelspec": {
   "display_name": "Julia 0.6.2",
   "language": "julia",
   "name": "julia-0.6"
  },
  "language_info": {
   "file_extension": ".jl",
   "mimetype": "application/julia",
   "name": "julia",
   "version": "0.6.4"
  }
 },
 "nbformat": 4,
 "nbformat_minor": 2
}
